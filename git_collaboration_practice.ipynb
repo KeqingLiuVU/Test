{
 "cells": [
  {
   "cell_type": "markdown",
   "id": "479305f1",
   "metadata": {},
   "source": [
    "\n",
    "# Git Collaboration Practice Session\n",
    "\n",
    "Welcome to the Git collaboration practice session! In this notebook, you'll be working on a few Python tasks while practicing Git collaboration techniques. Your team will practice branching, pushing, pulling, and conflict resolution.\n",
    "\n",
    "The tasks are designed to mimic a real-world collaborative development scenario. Let's dive in!\n"
   ]
  },
  {
   "cell_type": "markdown",
   "id": "56a627bb",
   "metadata": {},
   "source": [
    "\n",
    "## Task 1: Basic Python Programming\n",
    "\n",
    "Write a Python function that computes the factorial of a number.\n",
    "\n",
    "```python\n",
    "def factorial(n):\n",
    "    # TODO: Implement this function\n",
    "    pass\n",
    "```\n",
    "\n",
    "Once you've implemented the function, make sure to commit and push your changes to your branch.\n"
   ]
  },
  {
   "cell_type": "markdown",
   "id": "19e4069b",
   "metadata": {},
   "source": [
    "\n",
    "## Task 2: Collaboration\n",
    "\n",
    "For this task, your team will divide the work as follows:\n",
    "\n",
    "1. Member A: Implements the Python function.\n",
    "2. Member B: Writes test cases for the function.\n",
    "3. Member C: Documents the function (i.e., writes a docstring explaining what the function does, its parameters, and its return value).\n",
    "\n",
    "Remember, each member should work on their own branch for this task.\n"
   ]
  },
  {
   "cell_type": "markdown",
   "id": "5e5740bd",
   "metadata": {},
   "source": [
    "\n",
    "## Task 3: Conflict Resolution\n",
    "\n",
    "In this task, two members (A and B) will modify the `factorial` function slightly differently, resulting in a conflict. Your goal is to:\n",
    "\n",
    "1. Introduce the conflict by having both members push their changes.\n",
    "2. Try to merge the changes and observe the conflict.\n",
    "3. Resolve the conflict.\n",
    "4. Document the steps taken to resolve the conflict.\n",
    "\n",
    "This task will help you understand how to deal with merge conflicts, a common scenario in collaborative projects.\n"
   ]
  }
 ],
 "metadata": {},
 "nbformat": 4,
 "nbformat_minor": 5
}
